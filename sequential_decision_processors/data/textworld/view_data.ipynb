{
 "cells": [
  {
   "cell_type": "code",
   "execution_count": 1,
   "id": "4f056c0d",
   "metadata": {},
   "outputs": [],
   "source": [
    "import json, os\n",
    "import random\n",
    "import pandas as pd\n",
    "from collections import Counter"
   ]
  },
  {
   "cell_type": "code",
   "execution_count": 4,
   "id": "9a31297f",
   "metadata": {},
   "outputs": [
    {
     "name": "stdout",
     "output_type": "stream",
     "text": [
      "Loading data from raw/cleaned_data/cooking_singlemove_150k.jsonl...\n",
      "Loaded 150000 entries\n",
      "Data shuffled!\n",
      "Loaded 150000 entries\n",
      "Data shuffled!\n"
     ]
    }
   ],
   "source": [
    "DATA_FOLDER = 'raw/cleaned_data'\n",
    "# FILENAME = \"cooking_multimove_60k.jsonl\"\n",
    "FILENAME = \"cooking_singlemove_150k.jsonl\"\n",
    "\n",
    "# Now load in our data as 'data'. Shuffle it\n",
    "data = []\n",
    "filepath = os.path.join(DATA_FOLDER, FILENAME)\n",
    "\n",
    "print(f\"Loading data from {filepath}...\")\n",
    "with open(filepath, 'r', encoding='utf-8') as f:\n",
    "    for line in f:\n",
    "        if line.strip():\n",
    "            entry = json.loads(line)\n",
    "            data.append(entry)\n",
    "\n",
    "print(f\"Loaded {len(data)} entries\")\n",
    "\n",
    "# Shuffle the data\n",
    "random.shuffle(data)\n",
    "print(\"Data shuffled!\")"
   ]
  },
  {
   "cell_type": "code",
   "execution_count": 5,
   "id": "db4438d6",
   "metadata": {},
   "outputs": [
    {
     "name": "stdout",
     "output_type": "stream",
     "text": [
      "=== RANDOM CHAT SAMPLE ===\n",
      "\n",
      "SYSTEM:\n",
      "generic_sysprompt.txt\n",
      "\n",
      "==================================================\n",
      "\n",
      "USER:\n",
      "You are playing Cooking World, a text-based game that requires you to assemble a recipe and eat a meal. This follows typical text-based adventure game formats -- you should attempt to output the best action to play directly given the current state of the game. I will provide you with the output from the environment. The current state is the following:\n",
      "Move 22 | Score = 7/8\n",
      "Actionable Verbs: ['chop', 'close', 'cook', 'dice', 'drink', 'drop', 'eat', 'examine', 'go', 'insert', 'inventory', 'lock', 'look', 'open', 'prepare', 'put', 'slice', 'take', 'unlock']\n",
      "Objective: You are hungry! Let's cook a delicious meal. Check the cookbook in the kitchen for the recipe. Once done, enjoy your meal!\n",
      "Location: Kitchen\n",
      "Inventory: You are carrying: a meal.\n",
      "Current Observation: You are in a kitchen. A typical kind of place.\n",
      "\n",
      "As if things weren't amazing enough already, you can even see a fridge. The fridge contains a red hot pepper. Oh, great. Here's an oven. What's that over there? It looks like it's a table. But the thing is empty, unfortunately. You make out a counter. The counter is vast. On the counter you make out a cookbook. You shudder, but continue examining the room. You make out a stove. But the thing hasn't got anything on it.\n",
      "\n",
      "There is an open frosted-glass door leading west. There is an exit to the east. There is an exit to the south.\n",
      "\n",
      "There is a knife, a raw red potato and a raw yellow potato on the floor.\n",
      "Necessary Context: Recipe #1\n",
      "---------\n",
      "Gather all following ingredients and follow the directions to prepare this tasty meal.\n",
      "\n",
      "Ingredients:\n",
      "white onion\n",
      "  yellow bell pepper\n",
      "\n",
      "Directions:\n",
      "chop the white onion\n",
      "  roast the white onion\n",
      "  dice the yellow bell pepper\n",
      "  roast the yellow bell pepper\n",
      "  prepare meal\n",
      "\n",
      "What is your first action?\n",
      "\n",
      "==================================================\n",
      "\n",
      "ASSISTANT:\n",
      "Eat meal\n",
      "\n",
      "==================================================\n",
      "\n"
     ]
    }
   ],
   "source": [
    "# Sample a random entry\n",
    "sample_entry = random.choice(data)\n",
    "chat = sample_entry['chat']\n",
    "\n",
    "print(\"=== RANDOM CHAT SAMPLE ===\\n\")\n",
    "\n",
    "for role, content in chat:\n",
    "    print(f\"{role.upper()}:\")\n",
    "    print(content)\n",
    "    print(\"\\n\" + \"=\"*50 + \"\\n\")"
   ]
  }
 ],
 "metadata": {
  "kernelspec": {
   "display_name": ".venv",
   "language": "python",
   "name": "python3"
  },
  "language_info": {
   "codemirror_mode": {
    "name": "ipython",
    "version": 3
   },
   "file_extension": ".py",
   "mimetype": "text/x-python",
   "name": "python",
   "nbconvert_exporter": "python",
   "pygments_lexer": "ipython3",
   "version": "3.11.13"
  }
 },
 "nbformat": 4,
 "nbformat_minor": 5
}
