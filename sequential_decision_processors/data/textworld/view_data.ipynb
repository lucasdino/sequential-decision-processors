{
 "cells": [
  {
   "cell_type": "code",
   "execution_count": 1,
   "id": "4f056c0d",
   "metadata": {},
   "outputs": [],
   "source": [
    "import json, os\n",
    "import random\n",
    "import pandas as pd\n",
    "from collections import Counter"
   ]
  },
  {
   "cell_type": "code",
   "execution_count": 2,
   "id": "9a31297f",
   "metadata": {},
   "outputs": [
    {
     "name": "stdout",
     "output_type": "stream",
     "text": [
      "Loading data from raw/cleaned_data/cooking_multimove_60k.jsonl...\n",
      "Loaded 60000 entries\n",
      "Data shuffled!\n"
     ]
    }
   ],
   "source": [
    "# DATA_FOLDER = 'cleaned/train_data'\n",
    "DATA_FOLDER = 'raw/cleaned_data'\n",
    "FILENAME = \"cooking_multimove_60k.jsonl\"\n",
    "# FILENAME = \"cooking_singlemove_150k.jsonl\"\n",
    "\n",
    "# Now load in our data as 'data'. Shuffle it\n",
    "data = []\n",
    "filepath = os.path.join(DATA_FOLDER, FILENAME)\n",
    "\n",
    "print(f\"Loading data from {filepath}...\")\n",
    "with open(filepath, 'r', encoding='utf-8') as f:\n",
    "    for line in f:\n",
    "        if line.strip():\n",
    "            entry = json.loads(line)\n",
    "            data.append(entry)\n",
    "\n",
    "print(f\"Loaded {len(data)} entries\")\n",
    "\n",
    "# Shuffle the data\n",
    "random.shuffle(data)\n",
    "print(\"Data shuffled!\")"
   ]
  },
  {
   "cell_type": "code",
   "execution_count": 3,
   "id": "db4438d6",
   "metadata": {},
   "outputs": [
    {
     "name": "stdout",
     "output_type": "stream",
     "text": [
      "=== RANDOM CHAT SAMPLE ===\n",
      "\n",
      "SYSTEM:\n",
      "generic_sysprompt.txt\n",
      "\n",
      "==================================================\n",
      "\n",
      "USER:\n",
      "You are playing Cooking World, a text-based game that requires you to assemble a recipe and eat a meal. This follows typical text-based adventure game formats -- you should attempt to output the best action to play directly given the current state of the game. \n",
      "\n",
      "Additionally, I want you to predict what the environment will respond with. You should format your response with 'role: action/response' for the roles: {player, environment} seprated by a newline. I will specify how long you should continue the pattern for -- as an example, 3 plies would be:\n",
      "\n",
      "player: Take jamberries from fridge\n",
      "environment: You take the jamberries from the fridge. [Move 8 | Score = 3/9]\n",
      "player: Cook jamberries with stove\n",
      "\n",
      "The current state is the following:\n",
      "Move 15 | Score = 4/7\n",
      "Actionable Verbs: ['chop', 'close', 'cook', 'dice', 'drink', 'drop', 'eat', 'examine', 'go', 'insert', 'inventory', 'lock', 'look', 'open', 'prepare', 'put', 'slice', 'take', 'unlock']\n",
      "Objective: You are hungry! Let's cook a delicious meal. Check the cookbook in the kitchen for the recipe. Once done, enjoy your meal!\n",
      "Location: Kitchen\n",
      "Inventory: You are carrying: a diced roasted red onion.\n",
      "Current Observation: You find yourself in a kitchen. An usual kind of place.\n",
      "\n",
      "You can see a closed fridge. You make out a closed oven. You scan the room, seeing a table. The table is massive. On the table you can make out a cookbook. As if things weren't amazing enough already, you can even see a counter. You see a raw red potato, a red hot pepper and a raw purple potato on the counter. You make out a stove. The stove is conventional. Unfortunately, there isn't a thing on it.\n",
      "\n",
      "There is a closed frosted-glass door leading east. There is an open screen door leading north. There is an exit to the south.\n",
      "\n",
      "There is a knife, a grilled banana, a white onion and a red apple on the floor.\n",
      "Necessary Context: Recipe #1\n",
      "---------\n",
      "Gather all following ingredients and follow the directions to prepare this tasty meal.\n",
      "\n",
      "Ingredients:\n",
      "red onion\n",
      "  banana\n",
      "\n",
      "Directions:\n",
      "dice the red onion\n",
      "  roast the red onion\n",
      "  chop the banana\n",
      "  grill the banana\n",
      "  prepare meal\n",
      "\n",
      "Please predict the optimal line for 5 plies starting with the player's action.\n",
      "\n",
      "==================================================\n",
      "\n",
      "ASSISTANT:\n",
      "player: Take banana\n",
      "environment: You pick up the banana from the ground. [Move 16 | Score = 4/7]\n",
      "player: Drop red onion\n",
      "environment: You drop the red onion on the ground. [Move 17 | Score = 4/7]\n",
      "player: Take knife\n",
      "\n",
      "\n",
      "==================================================\n",
      "\n"
     ]
    }
   ],
   "source": [
    "# Sample a random entry\n",
    "sample_entry = random.choice(data)\n",
    "chat = sample_entry['chat']\n",
    "\n",
    "print(\"=== RANDOM CHAT SAMPLE ===\\n\")\n",
    "\n",
    "for role, content in chat:\n",
    "    print(f\"{role.upper()}:\")\n",
    "    print(content)\n",
    "    print(\"\\n\" + \"=\"*50 + \"\\n\")"
   ]
  }
 ],
 "metadata": {
  "kernelspec": {
   "display_name": ".venv",
   "language": "python",
   "name": "python3"
  },
  "language_info": {
   "codemirror_mode": {
    "name": "ipython",
    "version": 3
   },
   "file_extension": ".py",
   "mimetype": "text/x-python",
   "name": "python",
   "nbconvert_exporter": "python",
   "pygments_lexer": "ipython3",
   "version": "3.11.13"
  }
 },
 "nbformat": 4,
 "nbformat_minor": 5
}
