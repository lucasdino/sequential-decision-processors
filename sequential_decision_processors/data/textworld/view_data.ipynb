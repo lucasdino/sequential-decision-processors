{
 "cells": [
  {
   "cell_type": "code",
   "execution_count": 1,
   "id": "4f056c0d",
   "metadata": {},
   "outputs": [],
   "source": [
    "import json, os\n",
    "import random\n",
    "import pandas as pd\n",
    "from collections import Counter"
   ]
  },
  {
   "cell_type": "code",
   "execution_count": 5,
   "id": "9a31297f",
   "metadata": {},
   "outputs": [
    {
     "name": "stdout",
     "output_type": "stream",
     "text": [
      "Loading data from cleaned/train_data/scienceworld_singlemove_50k.jsonl...\n",
      "Loaded 50000 entries\n",
      "Data shuffled!\n"
     ]
    }
   ],
   "source": [
    "# DATA_FOLDER = 'cleaned/train_data'\n",
    "DATA_FOLDER = 'cleaned/train_data'\n",
    "# FILENAME = \"scienceworld_multimove_20k.jsonl\"\n",
    "FILENAME = \"scienceworld_singlemove_50k.jsonl\"\n",
    "\n",
    "# Now load in our data as 'data'. Shuffle it\n",
    "data = []\n",
    "filepath = os.path.join(DATA_FOLDER, FILENAME)\n",
    "\n",
    "print(f\"Loading data from {filepath}...\")\n",
    "with open(filepath, 'r', encoding='utf-8') as f:\n",
    "    for line in f:\n",
    "        if line.strip():\n",
    "            entry = json.loads(line)\n",
    "            data.append(entry)\n",
    "\n",
    "print(f\"Loaded {len(data)} entries\")\n",
    "\n",
    "# Shuffle the data\n",
    "random.shuffle(data)\n",
    "print(\"Data shuffled!\")"
   ]
  },
  {
   "cell_type": "code",
   "execution_count": 6,
   "id": "db4438d6",
   "metadata": {},
   "outputs": [
    {
     "name": "stdout",
     "output_type": "stream",
     "text": [
      "=== RANDOM CHAT SAMPLE ===\n",
      "\n",
      "SYSTEM:\n",
      "generic_sysprompt.txt\n",
      "\n",
      "==================================================\n",
      "\n",
      "USER:\n",
      "You are playing Scienceworld, a text-based game that requires you to accomplish various science-related experiments. This follows typical text-based adventure game formats -- you should attempt to output the best action to play directly given the current state of the game. I will provide you with the output from the environment. The current state is the following:\n",
      "Move 10 | Score = 83/100\n",
      "Actionable Verbs: ['activate', 'close', 'connect OBJ to', 'deactivate', 'disconnect', 'dunk OBJ in', 'eat', 'flush', 'focus on', 'go', 'inventory', 'look around', 'look at', 'look in', 'mix', 'move OBJ to', 'open', 'pick up', 'pour OBJ in', 'put down', 'read', 'task', 'use OBJ on', 'wait', 'wait1']\n",
      "Objective: Your task is to find a(n) plant. First, focus on the thing. Then, move it to the red box in the bedroom.\n",
      "Location: Bedroom\n",
      "Inventory: In your inventory, you see:\n",
      "\ta flower pot 9 (containing a cherry tree in the reproducing stage. On the cherry tree you see: a flower. , soil)\n",
      "\tan orange\n",
      "\n",
      "Current Observation: This room is called the bedroom. In it, you see: \n",
      "\tthe agent\n",
      "\ta substance called air\n",
      "\ta bed. On the bed is: a mattress. On the mattress is: a white pillow..\n",
      "\ta closet. The closet door is closed. \n",
      "\ta painting\n",
      "\ta red box (containing nothing)\n",
      "\ta table. On the table is: nothing.\n",
      "You also see:\n",
      "\tA door to the hallway (that is open)\n",
      "\n",
      "\n",
      "What is your first action?\n",
      "\n",
      "==================================================\n",
      "\n",
      "ASSISTANT:\n",
      "move flower pot 9 containing cherry tree and soil in inventory to red box\n",
      "\n",
      "==================================================\n",
      "\n"
     ]
    }
   ],
   "source": [
    "# Sample a random entry\n",
    "sample_entry = random.choice(data)\n",
    "chat = sample_entry['chat']\n",
    "\n",
    "print(\"=== RANDOM CHAT SAMPLE ===\\n\")\n",
    "\n",
    "for role, content in chat:\n",
    "    print(f\"{role.upper()}:\")\n",
    "    print(content)\n",
    "    print(\"\\n\" + \"=\"*50 + \"\\n\")"
   ]
  }
 ],
 "metadata": {
  "kernelspec": {
   "display_name": ".venv",
   "language": "python",
   "name": "python3"
  },
  "language_info": {
   "codemirror_mode": {
    "name": "ipython",
    "version": 3
   },
   "file_extension": ".py",
   "mimetype": "text/x-python",
   "name": "python",
   "nbconvert_exporter": "python",
   "pygments_lexer": "ipython3",
   "version": "3.11.13"
  }
 },
 "nbformat": 4,
 "nbformat_minor": 5
}
