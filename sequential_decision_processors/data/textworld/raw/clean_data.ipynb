{
 "cells": [
  {
   "cell_type": "code",
   "execution_count": 7,
   "id": "113e4360",
   "metadata": {},
   "outputs": [],
   "source": [
    "import json, os\n",
    "from typing import Optional, Dict, Any, List\n",
    "import utils as util\n",
    "\n",
    "from collections import Counter\n",
    "import matplotlib.pyplot as plt\n",
    "\n",
    "DATA_FOLDER = \"cleaned_data\""
   ]
  },
  {
   "cell_type": "markdown",
   "id": "f8bd2099",
   "metadata": {},
   "source": [
    "### Process Data (Single Move)"
   ]
  },
  {
   "cell_type": "code",
   "execution_count": 8,
   "id": "fad3cb9f",
   "metadata": {},
   "outputs": [
    {
     "name": "stdout",
     "output_type": "stream",
     "text": [
      "Processed: 50000, Errors: 0\n",
      "Output saved to: cleaned_data/scienceworld_singlemove_50k.jsonl\n"
     ]
    }
   ],
   "source": [
    "INPUT_FILENAME = \"scienceworld_singlemove_10_1_25_50000.jsonl\"\n",
    "OUTPUT_FILENAME = \"scienceworld_singlemove_50k.jsonl\"\n",
    "\n",
    "def parse_entry(entry):\n",
    "    data = entry['data']\n",
    "    \n",
    "    # Check first element is \"Full Observation\"\n",
    "    if data[0][0] != \"Full Observation\":\n",
    "        raise ValueError(f\"First element must be 'Full Observation', got: {data[0][0]}\")\n",
    "    \n",
    "    full_observation = data[0][1]\n",
    "    \n",
    "    # Parse alternating User/Environment pairs\n",
    "    user_env_pairs = data[1:]  # Skip the Full Observation\n",
    "    \n",
    "    # Validate pattern: User, Environment, User, Environment, ...\n",
    "    for i, (role, content) in enumerate(user_env_pairs):\n",
    "        expected_role = \"User\" if i % 2 == 0 else \"Environment\"\n",
    "        if role != expected_role:\n",
    "            raise ValueError(f\"Expected {expected_role} at index {i+1}, got: {role}\")\n",
    "    \n",
    "    # Build chat format\n",
    "    # chat = [\n",
    "    #     [\"system\", \"generic_sysprompt.txt\"],\n",
    "    #     [\"user\", f\"You are playing Cooking World, a text-based game that requires you to assemble a recipe and eat a meal. This follows typical text-based adventure game formats -- you should attempt to output the best action to play directly given the current state of the game. I will provide you with the output from the environment. The current state is the following:\\n{full_observation}\\nWhat is your first action?\"]\n",
    "    # ]\n",
    "    chat = [\n",
    "        [\"system\", \"generic_sysprompt.txt\"],\n",
    "        [\"user\", f\"You are playing Scienceworld, a text-based game that requires you to accomplish various science-related experiments. This follows typical text-based adventure game formats -- you should attempt to output the best action to play directly given the current state of the game. I will provide you with the output from the environment. The current state is the following:\\n{full_observation}\\nWhat is your first action?\"]\n",
    "    ]\n",
    "    \n",
    "    # Add alternating assistant/user pairs\n",
    "    for i in range(0, len(user_env_pairs), 2):\n",
    "        # Add user action as assistant response\n",
    "        chat.append([\"assistant\", user_env_pairs[i][1]])\n",
    "        \n",
    "        # Add environment response as user (if exists)\n",
    "        if i + 1 < len(user_env_pairs):\n",
    "            chat.append([\"user\", user_env_pairs[i + 1][1]])\n",
    "    \n",
    "    return {\"chat\": chat}\n",
    "\n",
    "# Process file\n",
    "input_path = os.path.join(DATA_FOLDER, INPUT_FILENAME)\n",
    "output_path = os.path.join(DATA_FOLDER, OUTPUT_FILENAME)\n",
    "\n",
    "processed = 0\n",
    "errors = 0\n",
    "\n",
    "with open(input_path, 'r') as infile, open(output_path, 'w') as outfile:\n",
    "    for line in infile:\n",
    "        if line.strip():\n",
    "            try:\n",
    "                entry = json.loads(line)\n",
    "                chat_entry = parse_entry(entry)\n",
    "                outfile.write(json.dumps(chat_entry) + '\\n')\n",
    "                processed += 1\n",
    "            except Exception as e:\n",
    "                errors += 1\n",
    "                print(f\"Error processing entry {processed + errors}: {e}\")\n",
    "\n",
    "print(f\"Processed: {processed}, Errors: {errors}\")\n",
    "print(f\"Output saved to: {output_path}\")"
   ]
  },
  {
   "cell_type": "markdown",
   "id": "afabfb0a",
   "metadata": {},
   "source": [
    "### Process Data (Multimove)"
   ]
  },
  {
   "cell_type": "code",
   "execution_count": 9,
   "id": "b55ef451",
   "metadata": {},
   "outputs": [
    {
     "name": "stdout",
     "output_type": "stream",
     "text": [
      "Processed: 20000, Errors: 0\n",
      "Output saved to: cleaned_data/scienceworld_multimove_20k.jsonl\n"
     ]
    }
   ],
   "source": [
    "INPUT_FILENAME = \"scienceworld_multimove_10_1_25_20000.jsonl\"\n",
    "OUTPUT_FILENAME = \"scienceworld_multimove_20k.jsonl\"\n",
    "\n",
    "def parse_entry(entry):\n",
    "    data = entry['data']\n",
    "    \n",
    "    # Check first element is \"Full Observation\"\n",
    "    if data[0][0] != \"Full Observation\":\n",
    "        raise ValueError(f\"First element must be 'Full Observation', got: {data[0][0]}\")\n",
    "    \n",
    "    full_observation = data[0][1]\n",
    "    \n",
    "    # Parse alternating User/Environment pairs\n",
    "    user_env_pairs = data[1:]  # Skip the Full Observation\n",
    "    \n",
    "    # Validate pattern: User, Environment, User, Environment, ...\n",
    "    for i, (role, content) in enumerate(user_env_pairs):\n",
    "        expected_role = \"User\" if i % 2 == 0 else \"Environment\"\n",
    "        if role != expected_role:\n",
    "            raise ValueError(f\"Expected {expected_role} at index {i+1}, got: {role}\")\n",
    "    \n",
    "    # Build chat format\n",
    "#     chat = [\n",
    "#         [\"system\", \"generic_sysprompt.txt\"],\n",
    "#         [\"user\", f\"\"\"You are playing Cooking World, a text-based game that requires you to assemble a recipe and eat a meal. This follows typical text-based adventure game formats -- you should attempt to output the best action to play directly given the current state of the game. \n",
    "        \n",
    "# Additionally, I want you to predict what the environment will respond with. You should format your response with 'role: action/response' for the roles: {{player, environment}} seprated by a newline. I will specify how long you should continue the pattern for -- as a mock example, 3 plies would be:\n",
    "\n",
    "# player: Take jamberries from fridge\n",
    "# environment: You take the jamberries from the fridge. Score = 3/9\n",
    "# player: Cook jamberries with stove\n",
    "         \n",
    "# The current state is the following:\n",
    "# {full_observation}\n",
    "# Please predict the optimal line for {len(user_env_pairs)} plies starting with the player's action.\"\"\"]\n",
    "#     ]\n",
    "    chat = [\n",
    "        [\"system\", \"generic_sysprompt.txt\"],\n",
    "        [\"user\", f\"\"\"You are playing Scienceworld, a text-based game that requires you to accomplish various science-related experiments. This follows typical text-based adventure game formats -- you should attempt to output the best action to play directly given the current state of the game. \n",
    "        \n",
    "Additionally, I want you to predict what the environment will respond with. You should format your response with 'role: action/response' for the roles: {{player, environment}} seprated by a newline. I will specify how long you should continue the pattern for -- as a mock example, 3 plies would be:\n",
    "\n",
    "player: Take jamberries from fridge\n",
    "environment: You take the jamberries from the fridge. Score = 30/100\n",
    "player: Cook jamberries with stove\n",
    "         \n",
    "The current state is the following:\n",
    "{full_observation}\n",
    "Please predict the optimal line for {len(user_env_pairs)} plies starting with the player's action.\"\"\"]\n",
    "    ]\n",
    "    \n",
    "    \n",
    "    asst_response = \"\"\n",
    "    for i in range(0, len(user_env_pairs), 2):\n",
    "        asst_response += f\"player: {user_env_pairs[i][1]}\\n\"\n",
    "        if i + 1 < len(user_env_pairs):\n",
    "            asst_response += f\"environment: {user_env_pairs[i + 1][1]}\\n\"\n",
    "\n",
    "    chat.append([\"assistant\", asst_response])\n",
    "    return {\"chat\": chat}\n",
    "\n",
    "# Process file\n",
    "input_path = os.path.join(DATA_FOLDER, INPUT_FILENAME)\n",
    "output_path = os.path.join(DATA_FOLDER, OUTPUT_FILENAME)\n",
    "\n",
    "processed = 0\n",
    "errors = 0\n",
    "\n",
    "with open(input_path, 'r') as infile, open(output_path, 'w') as outfile:\n",
    "    for line in infile:\n",
    "        if line.strip():\n",
    "            try:\n",
    "                entry = json.loads(line)\n",
    "                chat_entry = parse_entry(entry)\n",
    "                outfile.write(json.dumps(chat_entry) + '\\n')\n",
    "                processed += 1\n",
    "            except Exception as e:\n",
    "                errors += 1\n",
    "                print(f\"Error processing entry {processed + errors}: {e}\")\n",
    "\n",
    "print(f\"Processed: {processed}, Errors: {errors}\")\n",
    "print(f\"Output saved to: {output_path}\")"
   ]
  },
  {
   "cell_type": "markdown",
   "id": "b6696d19",
   "metadata": {},
   "source": [
    "### Analyze distributions"
   ]
  },
  {
   "cell_type": "markdown",
   "id": "dc5b8a81",
   "metadata": {},
   "source": [
    "### Aggregate multiple files into one"
   ]
  },
  {
   "cell_type": "code",
   "execution_count": 4,
   "id": "eaf7a1c6",
   "metadata": {},
   "outputs": [],
   "source": [
    "DATA_FOLDER = \"generated_data\"\n",
    "FILES = [\n",
    "    \"scienceworld_singlemove_20251001_022903_25000.jsonl\",\n",
    "    \"scienceworld_singlemove_20251001_085945_25000.jsonl\",\n",
    "]\n",
    "# FILES = [\n",
    "#     \"cooking_multimove_20250928_231710_10000.jsonl\",\n",
    "#     \"cooking_multimove_20250929_013858_10000.jsonl\",\n",
    "#     \"cooking_multimove_20250929_025654_10000.jsonl\",\n",
    "#     \"cooking_multimove_20250929_041338_10000.jsonl\",\n",
    "#     \"cooking_multimove_20250929_053040_10000.jsonl\",\n",
    "#     \"cooking_multimove_20250929_064903_10000.jsonl\",\n",
    "# ]"
   ]
  },
  {
   "cell_type": "code",
   "execution_count": 5,
   "id": "76ea183e",
   "metadata": {},
   "outputs": [
    {
     "name": "stdout",
     "output_type": "stream",
     "text": [
      "Processing scienceworld_singlemove_20251001_022903_25000.jsonl...\n",
      "Processing scienceworld_singlemove_20251001_085945_25000.jsonl...\n",
      "Writing 50000 entries to generated_data/scienceworld_singlemove_10_1_25_50000.jsonl...\n",
      "Successfully created generated_data/scienceworld_singlemove_10_1_25_50000.jsonl with 50000 entries\n"
     ]
    }
   ],
   "source": [
    "output_filename = \"scienceworld_singlemove_10_1_25\"\n",
    "all_data = []\n",
    "\n",
    "# Read all files and collect data\n",
    "for filename in FILES:\n",
    "    filepath = os.path.join(DATA_FOLDER, filename)\n",
    "    print(f\"Processing {filename}...\")\n",
    "    \n",
    "    with open(filepath, 'r', encoding='utf-8') as f:\n",
    "        for line in f:\n",
    "            if line.strip():  # Skip empty lines\n",
    "                data = json.loads(line)\n",
    "                all_data.append(data)\n",
    "\n",
    "# Create output filename with the total count\n",
    "total_count = len(all_data)\n",
    "output_filepath = os.path.join(DATA_FOLDER, f\"{output_filename}_{total_count}.jsonl\")\n",
    "\n",
    "# Write all data to the output file\n",
    "print(f\"Writing {total_count} entries to {output_filepath}...\")\n",
    "with open(output_filepath, 'w', encoding='utf-8') as f:\n",
    "    for data in all_data:\n",
    "        f.write(json.dumps(data) + '\\n')\n",
    "\n",
    "print(f\"Successfully created {output_filepath} with {total_count} entries\")"
   ]
  }
 ],
 "metadata": {
  "kernelspec": {
   "display_name": ".venv",
   "language": "python",
   "name": "python3"
  },
  "language_info": {
   "codemirror_mode": {
    "name": "ipython",
    "version": 3
   },
   "file_extension": ".py",
   "mimetype": "text/x-python",
   "name": "python",
   "nbconvert_exporter": "python",
   "pygments_lexer": "ipython3",
   "version": "3.11.13"
  }
 },
 "nbformat": 4,
 "nbformat_minor": 5
}
